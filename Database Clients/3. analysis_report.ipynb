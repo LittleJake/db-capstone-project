{
 "cells": [
  {
   "attachments": {},
   "cell_type": "markdown",
   "metadata": {},
   "source": [
    "# Little Lemon analysis and sales report\n",
    "You have gained all the necessary skills and knowledge required to interact with the back-end MySQL database from your Python-based front-end application via the standard database client `MySQL Connector/Python`. \n",
    "\n",
    "Follow the instructions in the exercises given below and create a `Jupyter notebook` to produce a Little Lemon analysis and sales report. You need to submit this report for your peers to review.\n",
    "\n",
    " \n",
    "\n",
    "## Task 1:\n",
    "Complete the following steps to establish a connection pool:\n",
    "\n",
    "- To create a connection pool, import `MySQLConnectionPool` class from MySQL Connector/Python.\n",
    "\n",
    "- To find the information on the error, import the `Error` class from MySQL Connector/Python.\n",
    "\n",
    "- Define your database configurations as a Python dictionary object called `dbconfig`.\n",
    "\n",
    "- Establish a connection pool [`pool_name = pool_b`] with two connections. \n",
    "\n",
    "- Implement error handling using a `try-except` block in case the connection fails. \n",
    "\n",
    " "
   ]
  },
  {
   "cell_type": "code",
   "execution_count": 6,
   "metadata": {},
   "outputs": [],
   "source": [
    "# Code here.\n",
    "dbconfig={\"database\":\"little_lemon_db\", \"user\":\"root\", \"password\":\"root\"}\n",
    "\n",
    "from mysql import connector\n",
    "from mysql.connector.pooling import MySQLConnectionPool, Error, PoolError\n",
    "\n",
    "try:\n",
    "    pool_b = MySQLConnectionPool(**dbconfig, pool_size=2)\n",
    "except Error as e:\n",
    "    print(e)"
   ]
  },
  {
   "attachments": {},
   "cell_type": "markdown",
   "metadata": {},
   "source": [
    "## Task 2:\n",
    "Three guests are trying to book dinner slots simultaneously. Get the connections from `pool_b` and insert the following data in the `Bookings` table:\n",
    "\n",
    "\n",
    "**TIP:** You need to add a connection to connect the third guest.\n",
    "\n",
    "\n",
    "Guest 1:\n",
    "\n",
    "- Table Number: 8\n",
    "\n",
    "- First Name: Anees\n",
    "\n",
    "- Last Name: Java\n",
    "\n",
    "- Booking Time: 18:00\n",
    "\n",
    "- EmployeeID: 6\n",
    "\n",
    "\n",
    "Guest 2:\n",
    "\n",
    "- Table Number: 5\n",
    "\n",
    "- First Name: Bald\n",
    "\n",
    "- Last Name: Vin\n",
    "\n",
    "- Booking Time: 19:00\n",
    "\n",
    "- EmployeeID: 6\n",
    "\n",
    "\n",
    "Guest 3:\n",
    "\n",
    "- Table Number: 12\n",
    "\n",
    "- First Name: Jay\n",
    "\n",
    "- Last Name: Kon\n",
    "\n",
    "- Booking Time: 19:30 \n",
    "\n",
    "- EmployeeID: 6\n",
    "\n",
    "\n",
    "Return all the connections back to the pool. \n",
    "\n",
    "\n",
    "**TIP:** The pool size is two. However, you have three connected users. You can only return two connections. Returning a third connection will raise a `PoolError`. Use `try-except` to print the error message.  \n",
    "\n"
   ]
  },
  {
   "cell_type": "code",
   "execution_count": 8,
   "metadata": {},
   "outputs": [],
   "source": [
    "# Code here\n",
    "connections = []\n",
    "for i in range(2):\n",
    "    try:\n",
    "        connections.append(pool_b.get_connection())\n",
    "    except PoolError as e:\n",
    "        print(e)\n",
    "        connections.append(pool_b.add_connection())\n",
    "    except Error as e:\n",
    "        print(e)\n",
    "\n",
    "for connection in connections:\n",
    "    connection.close()\n"
   ]
  },
  {
   "attachments": {},
   "cell_type": "markdown",
   "metadata": {},
   "source": [
    "## Task 3:\n",
    "Create a report containing the following information:\n",
    "\n",
    "- The name and `EmployeeID` of the Little Lemon manager.\n",
    "\n",
    "- The name and role of the employee who receives the highest salary.\n",
    "\n",
    "- The number of guests booked between 18:00 and 20:00.\n",
    "\n",
    "- The full name and `BookingID` of all guests waiting to be seated with the receptionist in sorted order with respect to their `BookingSlot`."
   ]
  },
  {
   "cell_type": "code",
   "execution_count": null,
   "metadata": {},
   "outputs": [],
   "source": []
  },
  {
   "attachments": {},
   "cell_type": "markdown",
   "metadata": {},
   "source": [
    "## Task 4:\n",
    "Create a stored procedure named `BasicSalesReport` that returns the following statistics: \n",
    "\n",
    "- Total sales\n",
    "\n",
    "- Average sale\n",
    "\n",
    "- Minimum bill paid\n",
    "\n",
    "- Maximum bill paid"
   ]
  },
  {
   "cell_type": "code",
   "execution_count": 11,
   "metadata": {},
   "outputs": [],
   "source": [
    "# Code here\n",
    "conn = pool_b.get_connection()\n",
    "try:\n",
    "    cursor = conn.cursor()\n",
    "    proc = \"\"\"\n",
    "        DROP PROCEDURE BasicSalesReport;\n",
    "    \"\"\"\n",
    "    cursor.execute(proc)\n",
    "    proc = \"\"\"\n",
    "        CREATE PROCEDURE BasicSalesReport()\n",
    "        BEGIN\n",
    "\n",
    "        END;\n",
    "    \"\"\"\n",
    "    cursor.execute(proc)\n",
    "    \n",
    "except Error as e:\n",
    "    print(e)\n",
    "finally:\n",
    "    conn.close()"
   ]
  },
  {
   "attachments": {},
   "cell_type": "markdown",
   "metadata": {},
   "source": [
    "## Task 5:\n",
    "Little Lemon needs to display the next three upcoming bookings from the `Bookings` table on the kitchen screen to notify their chefs which orders are due next. To complete this task, carry out the following steps:\n",
    "\n",
    "- Get a connection from the pool.\n",
    "\n",
    "- Create a buffered cursor.\n",
    "\n",
    "- Combine the data from the Bookings and the Employee tables. Sort the retrieved records in ascending order. Then display the information of the first three guests. \n",
    "\n",
    "- Returned the connection back to the pool.\n",
    "\n",
    "\n",
    "The output should be as follows:\n",
    "\n",
    "`[BookingSlot]`\n",
    "\n",
    "`[Guest_name]`\n",
    "\n",
    "`[Assigned to: Employee Name [Employee Role]]`"
   ]
  },
  {
   "cell_type": "code",
   "execution_count": null,
   "metadata": {},
   "outputs": [],
   "source": [
    "# Code here"
   ]
  }
 ],
 "metadata": {
  "kernelspec": {
   "display_name": "base",
   "language": "python",
   "name": "python3"
  },
  "language_info": {
   "codemirror_mode": {
    "name": "ipython",
    "version": 3
   },
   "file_extension": ".py",
   "mimetype": "text/x-python",
   "name": "python",
   "nbconvert_exporter": "python",
   "pygments_lexer": "ipython3",
   "version": "3.8.8"
  },
  "orig_nbformat": 4
 },
 "nbformat": 4,
 "nbformat_minor": 2
}
