{
 "cells": [
  {
   "attachments": {},
   "cell_type": "markdown",
   "metadata": {},
   "source": [
    "# Implement and query stored procedures\n",
    "\n",
    "In this exercise you must create a pool of connections and get a connection from the pool to implement the stored procedures to complete the following tasks:\n",
    "\n",
    "- Establish a connection by importing `MySQLConnectionPool` and creating a pool with two connections.\n",
    "\n",
    "- Create and call a stored procedure named `PeakHours` that identifies the peak, or busiest hour, for the restaurant based on the number of bookings.\n",
    "\n",
    "- Create and call a stored procedure named `GuestStatus` that outputs status of each guest’s order based on which employee is assigned to the order.\n",
    "\n",
    "Stored procedures are created to carry out routine operations on MySQL databases. They are consistent and make sure that the written SQL queries in the procedures are executed in the same way every time you call the stored procedure.\n",
    "\n",
    "A stored procedure is created only once, and you store it in the MySQL database. You can call the stored procedures as many times as you need in your Python-based application.\n",
    "\n",
    "The tasks and the steps that you must follow to complete each one are as follows:\n",
    "\n",
    "\n",
    "## Task 1: Establish a connection \n",
    "\n",
    "Step one: Import `MySQLConnectionPool`\n",
    "\n",
    "Step two: Import `Error`\n",
    "\n",
    "Step three: Create a pool named `pool_a` with two connections. Use a `try-except` block to handle any possible errors. \n",
    "\n",
    "Your database configurations are as follows:"
   ]
  },
  {
   "cell_type": "code",
   "execution_count": 4,
   "metadata": {},
   "outputs": [],
   "source": [
    "dbconfig={\"database\":\"little_lemon_db\", \"user\":\"root\", \"password\":\"root\"}"
   ]
  },
  {
   "attachments": {},
   "cell_type": "markdown",
   "metadata": {},
   "source": [
    "Step four: Obtain a connection from `pool_a` and create a cursor object to communicate with the database."
   ]
  },
  {
   "cell_type": "code",
   "execution_count": 7,
   "metadata": {},
   "outputs": [],
   "source": [
    "# Code here.\n",
    "from mysql import connector\n",
    "from mysql.connector.pooling import MySQLConnectionPool, Error\n",
    "\n",
    "try:\n",
    "    pool_a = MySQLConnectionPool(**dbconfig, pool_size=5)\n",
    "except Error as e:\n",
    "    print(e)"
   ]
  },
  {
   "attachments": {},
   "cell_type": "markdown",
   "metadata": {},
   "source": [
    "# Task 2: Implement a stored procedure called `PeakHours`\n",
    "\n",
    "Step one: Write a SQL `CREATE PROCEDURE` query for `PeakHours`\n",
    "\n",
    "- Use `HOUR` to extract the hour part from the `BookingSlot`.\n",
    "\n",
    "- Use `COUNT` on hour to count the number of bookings.\n",
    "\n",
    "- Use `GROUP BY` on booking hour.\n",
    "\n",
    "- Use `ORDER BY` on the number of bookings in descending order.\n",
    "\n",
    "Step two: Run the stored procedure query by invoking execute module on the `cursor`.\n",
    "\n",
    "Step three: Invoke `callproc` to call the stored procedure.\n",
    "\n",
    "Step four: Fetch the results in a variable called `dataset`.\n",
    "\n",
    "Step five: Extract the names of the columns.\n",
    "\n",
    "Step six: Print the names of the columns.\n",
    "\n",
    "Step seven: Print the sorted data using for loop."
   ]
  },
  {
   "cell_type": "code",
   "execution_count": 29,
   "metadata": {},
   "outputs": [
    {
     "name": "stdout",
     "output_type": "stream",
     "text": [
      "BookingHours, BookingNumber\n",
      "19, 2\n",
      "15, 1\n",
      "17, 1\n",
      "18, 1\n",
      "20, 1\n"
     ]
    }
   ],
   "source": [
    "# Code here.\n",
    "conn = pool_a.get_connection()\n",
    "try:\n",
    "    cursor = conn.cursor()\n",
    "    delete_procedure = \"\"\"DROP PROCEDURE IF EXISTS PeakHours;\"\"\"\n",
    "    cursor.execute(delete_procedure)\n",
    "    \n",
    "    create_procedure = \"\"\"\n",
    "        CREATE PROCEDURE IF NOT EXISTS PeakHours()\n",
    "        BEGIN\n",
    "            SELECT HOUR(BookingSlot) as BookingHours, COUNT(HOUR(BookingSlot)) FROM Bookings GROUP BY HOUR(BookingSlot) ORDER BY COUNT(BookingHours) DESC;\n",
    "        END;\n",
    "    \"\"\"\n",
    "\n",
    "    cursor.execute(create_procedure)\n",
    "    cursor.callproc(\"PeakHours\")\n",
    "\n",
    "    dataset = next(cursor.stored_results())\n",
    "    print(\"%s, %s\" % (\"BookingHours\", \"BookingNumber\"))\n",
    "    for d in dataset.fetchall():\n",
    "        print(\"%d, %d\" % (d[0], d[1]))\n",
    "        \n",
    "except Error as e:\n",
    "    print(e)\n",
    "finally:\n",
    "    conn.close()"
   ]
  },
  {
   "attachments": {},
   "cell_type": "markdown",
   "metadata": {},
   "source": [
    "## Task 3: Implement a stored procedure `GuestStatus`\n",
    "\n",
    "Step one: Write a SQL `CREATE PROCEDURE` query for `GuestStatus`.\n",
    "\n",
    "Step two: Combine the guest’s first and last name from the booking column using `CONCAT`. \n",
    "\n",
    "Step three: Use `CASE` to implement the following statuses for each guest’s order:\n",
    "\n",
    "If the `Role` in the Employee table is Manager or Assistant Manager then the guest’s order status is `Ready to pay`\n",
    "\n",
    "If the `Role` in the Employee table is Head Chef then the status is `Ready to serve`\n",
    "\n",
    "If the `Role` in the Employee table is Assistant Chef then the status is `Preparing Order`\n",
    "\n",
    "If the `Role` in the Employee table is `Head Waiter` then the status is `Order served`\n",
    "\n",
    "Step four: `LEFT JOIN` Bookings table with Employees `ON EmployeeID`\n",
    "\n",
    "Step five: Run the stored procedure query by invoking execute module on the `cursor`.\n",
    "\n",
    "Step six: Invoke `callproc` to call the stored procedure.\n",
    "\n",
    "Step seven: Fetch the results in a variable called `dataset`.\n",
    "\n",
    "Step eight: Extract the names of the columns.\n",
    "\n",
    "Step nine: Print the names of the columns.\n",
    "\n",
    "Step ten: Print the sorted data using for loop.\n",
    "\n",
    "Step eleven: Close the connection to return it back to the pool."
   ]
  },
  {
   "cell_type": "code",
   "execution_count": 28,
   "metadata": {},
   "outputs": [
    {
     "name": "stdout",
     "output_type": "stream",
     "text": [
      "GuestName, Status\n",
      "Anna Iversen, Ready to pay\n",
      "Joakim Iversen, Ready to pay\n",
      "Vanessa McCarthy, Ready to serve\n",
      "Marcos Romero, Preparing Order\n",
      "Hiroki Yamane, Ready to pay\n",
      "Diana Pinto, Order served\n"
     ]
    }
   ],
   "source": [
    "# Code here.\n",
    "\n",
    "conn = pool_a.get_connection()\n",
    "try:\n",
    "    cursor = conn.cursor()\n",
    "    delete_procedure = \"\"\"DROP PROCEDURE IF EXISTS GuestStatus;\"\"\"\n",
    "    cursor.execute(delete_procedure)\n",
    "    \n",
    "    create_procedure = \"\"\"\n",
    "        CREATE PROCEDURE IF NOT EXISTS GuestStatus()\n",
    "        BEGIN\n",
    "            SELECT CONCAT(GuestFirstName, \" \", GuestLastName),\n",
    "            CASE\n",
    "                WHEN Role = 'Manager' or Role = 'Assistant Manager' THEN 'Ready to pay'\n",
    "                WHEN Role = 'Head Chef' THEN 'Ready to serve'\n",
    "                WHEN Role = 'Assistant Chef' THEN 'Preparing Order'\n",
    "                WHEN Role = 'Head Waiter' THEN 'Order served'\n",
    "            END\n",
    "            FROM Bookings LEFT JOIN Employees ON (Bookings.EmployeeID = Employees.EmployeeID);\n",
    "        END;\n",
    "    \"\"\"\n",
    "\n",
    "    cursor.execute(create_procedure)\n",
    "    cursor.callproc(\"GuestStatus\")\n",
    "\n",
    "    dataset = next(cursor.stored_results())\n",
    "    print(\"%s, %s\" % (\"GuestName\", \"Status\"))\n",
    "    for d in dataset.fetchall():\n",
    "        print(\"%s, %s\" % (d[0], d[1]))\n",
    "        \n",
    "except Error as e:\n",
    "    print(e)\n",
    "finally:\n",
    "    conn.close()"
   ]
  },
  {
   "attachments": {},
   "cell_type": "markdown",
   "metadata": {},
   "source": [
    "## Conclusion\n",
    "\n",
    "You have now created a pool of connections and obtained a connection from the pool that implemented the stored procedures. You need to submit this exercise for your peer review project.\n",
    "\n"
   ]
  }
 ],
 "metadata": {
  "kernelspec": {
   "display_name": "base",
   "language": "python",
   "name": "python3"
  },
  "language_info": {
   "name": "python",
   "version": "3.8.8"
  },
  "orig_nbformat": 4
 },
 "nbformat": 4,
 "nbformat_minor": 2
}
